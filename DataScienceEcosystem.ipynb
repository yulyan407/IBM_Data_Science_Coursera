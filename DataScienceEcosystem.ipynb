{
 "cells": [
  {
   "cell_type": "markdown",
   "id": "0aa01291-0525-4efb-814e-a2227ea8bae7",
   "metadata": {},
   "source": [
    "# Data Science Tools and Ecosystem"
   ]
  },
  {
   "cell_type": "markdown",
   "id": "2252481f-3419-4cce-b493-58321a405a8e",
   "metadata": {},
   "source": [
    "__In this notebook, Data Science Tools and Ecosystem are summarized.__"
   ]
  },
  {
   "cell_type": "markdown",
   "id": "a7362cd1-ddfc-4804-8fc8-fe9a84ebee6b",
   "metadata": {},
   "source": [
    "__Objectives:__\n",
    "- List popular languages for Data Science\n",
    "- Commonly used libraries used by Data Scientists\n",
    "- Data Science Tools"
   ]
  },
  {
   "cell_type": "markdown",
   "id": "a58bcfda-00ff-44e8-b66a-46a27fbe77b8",
   "metadata": {},
   "source": [
    "Some of the popular languages that Data Scientists use are:\n",
    "1. Python\n",
    "2. Julia\n",
    "3. R"
   ]
  },
  {
   "cell_type": "markdown",
   "id": "683b7654-dbf8-4a0e-8b30-1e164f76681a",
   "metadata": {},
   "source": [
    "***"
   ]
  },
  {
   "cell_type": "markdown",
   "id": "c917d170-498d-4b12-b5e4-247e8b383ed7",
   "metadata": {},
   "source": [
    "Some of the commonly used libraries used by Data Scientists include:\n",
    "1. Matplotlib\n",
    "2. Pandas\n",
    "3. NumPy\n",
    "4. Scikit-learn\n",
    "5. TensorFlow\n",
    "6. Keras\n",
    "7. SciPy\n",
    "8. PyTorch\n",
    "9. Seaborn"
   ]
  },
  {
   "cell_type": "markdown",
   "id": "c8122f5f-9c4a-4337-bc2a-4920650f946b",
   "metadata": {},
   "source": [
    "| Data Science Tools |\n",
    "|:-------------------|\n",
    "| Jupyter Notebook   |\n",
    "| Apache Spark       |\n",
    "| IBM SPSS           |"
   ]
  },
  {
   "cell_type": "markdown",
   "id": "ca3f3be1-50ca-45b1-b3d3-fc0afb91f8ad",
   "metadata": {},
   "source": [
    "### Below are a few examples of evaluating arithmetic expressions in Python"
   ]
  },
  {
   "cell_type": "code",
   "execution_count": 3,
   "id": "7e8eba2a-6b2c-4bc4-929b-bd7d39961d60",
   "metadata": {},
   "outputs": [
    {
     "data": {
      "text/plain": [
       "17"
      ]
     },
     "execution_count": 3,
     "metadata": {},
     "output_type": "execute_result"
    }
   ],
   "source": [
    "#This a simple arithmetic expression to multiply then add integers\n",
    "(3*4)+5"
   ]
  },
  {
   "cell_type": "code",
   "execution_count": 5,
   "id": "926020b8-5052-4f1b-af6b-1523a48f0c23",
   "metadata": {},
   "outputs": [
    {
     "data": {
      "text/plain": [
       "3.333"
      ]
     },
     "execution_count": 5,
     "metadata": {},
     "output_type": "execute_result"
    }
   ],
   "source": [
    "#This will convert 200 minutes to hours by diving by 60\n",
    "round(200/60,3)"
   ]
  },
  {
   "cell_type": "markdown",
   "id": "f374c9da-801a-4e29-abee-c960485a3b93",
   "metadata": {},
   "source": [
    "## Author\n",
    "Yuliia Didenko"
   ]
  },
  {
   "cell_type": "code",
   "execution_count": null,
   "id": "d7639014-a6ee-453c-95d9-95d35c111f03",
   "metadata": {},
   "outputs": [],
   "source": []
  }
 ],
 "metadata": {
  "kernelspec": {
   "display_name": "Python 3 (ipykernel)",
   "language": "python",
   "name": "python3"
  },
  "language_info": {
   "codemirror_mode": {
    "name": "ipython",
    "version": 3
   },
   "file_extension": ".py",
   "mimetype": "text/x-python",
   "name": "python",
   "nbconvert_exporter": "python",
   "pygments_lexer": "ipython3",
   "version": "3.10.15"
  }
 },
 "nbformat": 4,
 "nbformat_minor": 5
}
